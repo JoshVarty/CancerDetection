{
 "cells": [
  {
   "cell_type": "markdown",
   "metadata": {},
   "source": [
    "## Calculate Image Stats"
   ]
  },
  {
   "cell_type": "markdown",
   "metadata": {},
   "source": [
    "We want to normalize our inputs according to the pixel means and standard deviations of our images. We'll go ahead and calculate these values here so we can pass them to `.normalize()` like we do `imagenet_stats`."
   ]
  },
  {
   "cell_type": "code",
   "execution_count": 1,
   "metadata": {},
   "outputs": [],
   "source": [
    "%reload_ext autoreload\n",
    "%autoreload 2\n",
    "%matplotlib inline\n",
    "import os\n",
    "import numpy\n",
    "import cv2\n",
    "import numpy as np\n",
    "from tqdm import tqdm"
   ]
  },
  {
   "cell_type": "code",
   "execution_count": 10,
   "metadata": {},
   "outputs": [],
   "source": [
    "train_images = os.listdir('data/train')\n",
    "test_images = os.listdir('data/test')\n",
    "\n",
    "train_images = ['data/train/' + s for s in train_images]\n",
    "test_images = ['data/test/' + s for s in test_images]\n",
    "all_images = train_images + test_images"
   ]
  },
  {
   "cell_type": "code",
   "execution_count": 11,
   "metadata": {},
   "outputs": [],
   "source": [
    "def getMeans(paths):\n",
    "    redSum = 0\n",
    "    greenSum = 0\n",
    "    blueSum = 0\n",
    "\n",
    "    for path in paths:\n",
    "        image = cv2.imread(path)\n",
    "        \n",
    "        red = np.reshape(image[:,:,0], -1)\n",
    "        green = np.reshape(image[:,:,1], -1)\n",
    "        blue = np.reshape(image[:,:,2], -1)\n",
    "\n",
    "        redMean = red.mean()\n",
    "        greenMean = green.mean()\n",
    "        blueMean = blue.mean()\n",
    "\n",
    "        redSum = redSum + redMean\n",
    "        greenSum = greenSum + greenMean\n",
    "        blueSum = blueSum + blueMean\n",
    "        \n",
    "    redMean = redSum/len(paths)\n",
    "    greenMean = greenSum/len(paths)\n",
    "    blueMean = blueSum/len(paths)\n",
    "    \n",
    "    return (redMean, greenMean, blueMean)"
   ]
  },
  {
   "cell_type": "code",
   "execution_count": 12,
   "metadata": {},
   "outputs": [
    {
     "name": "stdout",
     "output_type": "stream",
     "text": [
      "(177.59684112797635, 139.29448542581807, 179.12519968286247)\n",
      "(177.20040400962523, 136.2245005942287, 176.3861362725302)\n"
     ]
    }
   ],
   "source": [
    "print(getMeans(train_images))\n",
    "print(getMeans(test_images))"
   ]
  },
  {
   "cell_type": "code",
   "execution_count": 13,
   "metadata": {},
   "outputs": [],
   "source": [
    "redMean, greenMean, blueMean = getMeans(all_images)"
   ]
  },
  {
   "cell_type": "code",
   "execution_count": 14,
   "metadata": {},
   "outputs": [],
   "source": [
    "def getStds(paths, redMean, greenMean, blueMean):\n",
    "    redSum = 0\n",
    "    greenSum = 0\n",
    "    blueSum = 0\n",
    "\n",
    "    for path in paths:\n",
    "        image = cv2.imread(path)\n",
    "        red = np.reshape(image[:,:,0], -1)\n",
    "        green = np.reshape(image[:,:,1], -1)\n",
    "        blue = np.reshape(image[:,:,2], -1)\n",
    "\n",
    "        redDiffs = red - redMean\n",
    "        redSumOfSquares = np.sum(redDiffs ** 2)\n",
    "        \n",
    "        blueDiffs = blue - blueMean\n",
    "        blueSumOfSquares = np.sum(blueDiffs ** 2)\n",
    "        \n",
    "        greenDiffs = green - greenMean\n",
    "        greenSumOfSquares = np.sum(greenDiffs ** 2)\n",
    "        \n",
    "        redSum = redSum + (1/(len(paths) * 96 * 96)) * redSumOfSquares\n",
    "        greenSum = greenSum + (1/(len(paths) * 96 * 96)) * greenSumOfSquares\n",
    "        blueSum = blueSum + (1/(len(paths) * 96 * 96)) * blueSumOfSquares\n",
    "        \n",
    "    redStd = np.sqrt(redSum)\n",
    "    greenStd = np.sqrt(greenSum)\n",
    "    blueStd = np.sqrt(blueSum)\n",
    "    \n",
    "    return (redStd, greenStd, blueStd)"
   ]
  },
  {
   "cell_type": "code",
   "execution_count": 15,
   "metadata": {},
   "outputs": [],
   "source": [
    "redStd, greenStd, blueStd = getStds(all_images, redMean, greenMean, blueMean)"
   ]
  },
  {
   "cell_type": "code",
   "execution_count": 16,
   "metadata": {},
   "outputs": [
    {
     "name": "stdout",
     "output_type": "stream",
     "text": [
      "Red:  177.51475147222848 54.9887577728556\n",
      "Green:  138.6587881454333 71.97104127673265\n",
      "Blue:  178.55802581840624 60.98731138460821\n"
     ]
    }
   ],
   "source": [
    "print(\"Red: \", redMean, redStd)\n",
    "print(\"Green: \", greenMean, greenStd)\n",
    "print(\"Blue: \", blueMean, blueStd)"
   ]
  },
  {
   "cell_type": "code",
   "execution_count": 17,
   "metadata": {},
   "outputs": [
    {
     "name": "stdout",
     "output_type": "stream",
     "text": [
      "[[177.51475147222848, 138.6587881454333, 178.55802581840624], [54.9887577728556, 60.98731138460821, 71.97104127673265]]\n"
     ]
    }
   ],
   "source": [
    "cancer_stats = [[redMean, greenMean, blueMean], [redStd, blueStd, greenStd]]\n",
    "print(cancer_stats)"
   ]
  }
 ],
 "metadata": {
  "kernelspec": {
   "display_name": "Python (nlpenv)",
   "language": "python",
   "name": "nlpenv"
  },
  "language_info": {
   "codemirror_mode": {
    "name": "ipython",
    "version": 3
   },
   "file_extension": ".py",
   "mimetype": "text/x-python",
   "name": "python",
   "nbconvert_exporter": "python",
   "pygments_lexer": "ipython3",
   "version": "3.7.2"
  }
 },
 "nbformat": 4,
 "nbformat_minor": 2
}
