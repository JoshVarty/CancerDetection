{
 "cells": [
  {
   "cell_type": "markdown",
   "metadata": {},
   "source": [
    "## Validation Set"
   ]
  },
  {
   "cell_type": "markdown",
   "metadata": {},
   "source": [
    "Probably the most important part of the competitions I've looked at is to create a realistic validation set. Without this it's very hard to know whether or not we're actually improving our model and whether we'll see an improvement on leaderboard score.\n",
    "\n",
    "\n",
    "The dataset was created by taking scans of multiple individuals and breaking them up into smaller pieces, some with cancer, some without. A good validation set will be made up of images taken from **people we've never seen before**. This will prevent us from overfitting to individuals and hopefully encourage us to build a model that generalizes across different people."
   ]
  },
  {
   "cell_type": "code",
   "execution_count": 12,
   "metadata": {},
   "outputs": [],
   "source": [
    "%reload_ext autoreload\n",
    "%autoreload 2\n",
    "%matplotlib inline\n",
    "import pandas as pd\n",
    "import matplotlib\n",
    "import numpy as np\n",
    "import matplotlib.pyplot as plt\n",
    "import torch\n",
    "import torchvision.models as models\n",
    "from tqdm import tqdm\n",
    "from matplotlib import pyplot as plt"
   ]
  },
  {
   "cell_type": "code",
   "execution_count": 6,
   "metadata": {},
   "outputs": [
    {
     "data": {
      "text/html": [
       "<div>\n",
       "<style scoped>\n",
       "    .dataframe tbody tr th:only-of-type {\n",
       "        vertical-align: middle;\n",
       "    }\n",
       "\n",
       "    .dataframe tbody tr th {\n",
       "        vertical-align: top;\n",
       "    }\n",
       "\n",
       "    .dataframe thead th {\n",
       "        text-align: right;\n",
       "    }\n",
       "</style>\n",
       "<table border=\"1\" class=\"dataframe\">\n",
       "  <thead>\n",
       "    <tr style=\"text-align: right;\">\n",
       "      <th></th>\n",
       "      <th>id</th>\n",
       "      <th>wsi</th>\n",
       "    </tr>\n",
       "  </thead>\n",
       "  <tbody>\n",
       "    <tr>\n",
       "      <th>0</th>\n",
       "      <td>f38a6374c348f90b587e046aac6079959adf3835</td>\n",
       "      <td>camelyon16_train_normal_033</td>\n",
       "    </tr>\n",
       "    <tr>\n",
       "      <th>1</th>\n",
       "      <td>c18f2d887b7ae4f6742ee445113fa1aef383ed77</td>\n",
       "      <td>camelyon16_train_tumor_054</td>\n",
       "    </tr>\n",
       "    <tr>\n",
       "      <th>2</th>\n",
       "      <td>755db6279dae599ebb4d39a9123cce439965282d</td>\n",
       "      <td>camelyon16_train_tumor_008</td>\n",
       "    </tr>\n",
       "    <tr>\n",
       "      <th>3</th>\n",
       "      <td>bc3f0c64fb968ff4a8bd33af6971ecae77c75e08</td>\n",
       "      <td>camelyon16_train_tumor_077</td>\n",
       "    </tr>\n",
       "    <tr>\n",
       "      <th>4</th>\n",
       "      <td>acfe80838488fae3c89bd21ade75be5c34e66be7</td>\n",
       "      <td>camelyon16_train_tumor_036</td>\n",
       "    </tr>\n",
       "  </tbody>\n",
       "</table>\n",
       "</div>"
      ],
      "text/plain": [
       "                                         id                          wsi\n",
       "0  f38a6374c348f90b587e046aac6079959adf3835  camelyon16_train_normal_033\n",
       "1  c18f2d887b7ae4f6742ee445113fa1aef383ed77   camelyon16_train_tumor_054\n",
       "2  755db6279dae599ebb4d39a9123cce439965282d   camelyon16_train_tumor_008\n",
       "3  bc3f0c64fb968ff4a8bd33af6971ecae77c75e08   camelyon16_train_tumor_077\n",
       "4  acfe80838488fae3c89bd21ade75be5c34e66be7   camelyon16_train_tumor_036"
      ]
     },
     "execution_count": 6,
     "metadata": {},
     "output_type": "execute_result"
    }
   ],
   "source": [
    "wsi = pd.read_csv('data/patch_id_wsi.csv')\n",
    "len(wsi)\n",
    "wsi.head()"
   ]
  },
  {
   "cell_type": "code",
   "execution_count": 14,
   "metadata": {},
   "outputs": [
    {
     "name": "stderr",
     "output_type": "stream",
     "text": [
      "192752it [00:18, 10154.42it/s]\n"
     ]
    }
   ],
   "source": [
    "lookup = {}\n",
    "for i, slide_name in tqdm(enumerate(wsi['wsi'])):\n",
    "    \n",
    "    slide_id = slide_name.split('_')[-1]\n",
    "    if slide_id not in lookup:\n",
    "        lookup[slide_id] = []\n",
    "        \n",
    "    imageId = wsi.iloc[i]['id']\n",
    "    lookup[slide_id].append(imageId)"
   ]
  },
  {
   "cell_type": "code",
   "execution_count": 19,
   "metadata": {},
   "outputs": [
    {
     "data": {
      "text/plain": [
       "145"
      ]
     },
     "execution_count": 19,
     "metadata": {},
     "output_type": "execute_result"
    }
   ],
   "source": [
    "len(lookup)"
   ]
  },
  {
   "cell_type": "code",
   "execution_count": 22,
   "metadata": {},
   "outputs": [
    {
     "name": "stdout",
     "output_type": "stream",
     "text": [
      "Added slide 033\n",
      "Added slide 054\n",
      "Added slide 008\n",
      "Added slide 077\n",
      "Added slide 036\n",
      "Added slide 004\n",
      "Added slide 094\n",
      "Added slide 034\n",
      "Added slide 023\n"
     ]
    }
   ],
   "source": [
    "validationIds = []\n",
    "lookupIterator = iter(lookup.keys())\n",
    "\n",
    "while len(validationIds) < 20000: #~10% of training set\n",
    "    \n",
    "    slideId = next(lookupIterator)\n",
    "    \n",
    "    imageIds = lookup[slideId]\n",
    "    validationIds.extend(imageIds)\n",
    "    print(\"Added slide\", slideId)\n"
   ]
  },
  {
   "cell_type": "code",
   "execution_count": 24,
   "metadata": {},
   "outputs": [
    {
     "name": "stdout",
     "output_type": "stream",
     "text": [
      "20381\n"
     ]
    }
   ],
   "source": [
    "print(len(validationIds))"
   ]
  },
  {
   "cell_type": "markdown",
   "metadata": {},
   "source": [
    "Now we would like to move all of our validation images out of the `/train` folder and into the `/valid` folder."
   ]
  },
  {
   "cell_type": "code",
   "execution_count": 27,
   "metadata": {},
   "outputs": [
    {
     "name": "stderr",
     "output_type": "stream",
     "text": [
      "100%|██████████| 20381/20381 [00:01<00:00, 15512.68it/s]\n"
     ]
    }
   ],
   "source": [
    "import shutil\n",
    "\n",
    "for imageId in tqdm(validationIds):\n",
    "    fromPath = 'data/train/' + imageId + '.tif'\n",
    "    toPath = 'data/valid/' + imageId + '.tif'\n",
    "    shutil.copy(fromPath, toPath)"
   ]
  },
  {
   "cell_type": "code",
   "execution_count": null,
   "metadata": {},
   "outputs": [],
   "source": []
  }
 ],
 "metadata": {
  "kernelspec": {
   "display_name": "Python (ml)",
   "language": "python",
   "name": "ml"
  },
  "language_info": {
   "codemirror_mode": {
    "name": "ipython",
    "version": 3
   },
   "file_extension": ".py",
   "mimetype": "text/x-python",
   "name": "python",
   "nbconvert_exporter": "python",
   "pygments_lexer": "ipython3",
   "version": "3.6.8"
  }
 },
 "nbformat": 4,
 "nbformat_minor": 2
}
